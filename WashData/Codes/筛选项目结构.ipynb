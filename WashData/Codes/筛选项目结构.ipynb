{
 "cells": [
  {
   "cell_type": "markdown",
   "metadata": {},
   "source": [
    "筛选做出Sports->Displine->Event的结构"
   ]
  },
  {
   "cell_type": "code",
   "execution_count": 111,
   "metadata": {},
   "outputs": [],
   "source": [
    "import pandas as pd\n",
    "df1 = pd.read_csv('../CleanData/summerOly_programs.csv')\n",
    "df2 = pd.read_csv('../Source/summerOly_athletes.csv')\n"
   ]
  },
  {
   "cell_type": "code",
   "execution_count": 112,
   "metadata": {},
   "outputs": [],
   "source": [
    "discipline_mapping = {}\n",
    "for _, row in df1.iterrows():\n",
    "    sport = row['Sport']\n",
    "    discipline = row['Discipline']\n",
    "    if sport not in discipline_mapping:\n",
    "        discipline_mapping[sport] = {}  # 如果 Sport 还没有记录，则初始化为一个空列表\n",
    "        discipline_mapping[sport]['NAN'] = []  # 并且添加一个空的 Discipline\n",
    "    discipline_mapping[sport][discipline]=[]  # 将对应的 Discipline 添加到列表中"
   ]
  },
  {
   "cell_type": "code",
   "execution_count": 113,
   "metadata": {},
   "outputs": [],
   "source": [
    "def get_correct_sport_and_discipline_and_event(row):\n",
    "    discipline = row['Sport']\n",
    "    \n",
    "    for k,v in discipline_mapping.items():\n",
    "        if discipline == k:\n",
    "            sport = k\n",
    "            discipline = 'NAN'\n",
    "            return pd.Series([sport, discipline, row['Event']], index=['Sport', 'Discipline', 'Event'])\n",
    "        elif discipline in v:\n",
    "            sport = k\n",
    "            return pd.Series([sport, discipline, row['Event']], index=['Sport', 'Discipline', 'Event'])\n",
    "    #没找到discipline对应的sport,则作为新的sport\n",
    "    sport = discipline\n",
    "    discipline_mapping[sport] = {}\n",
    "    discipline_mapping[sport]['NAN'] = [row['Event']]\n",
    "    \n",
    "    return pd.Series([sport, discipline, row['Event']], index=['Sport', 'Discipline', 'Event'])\n"
   ]
  },
  {
   "cell_type": "code",
   "execution_count": 114,
   "metadata": {},
   "outputs": [],
   "source": [
    "df2[['Sport', 'Discipline', 'Event']] = df2.apply(get_correct_sport_and_discipline_and_event, axis=1)"
   ]
  },
  {
   "cell_type": "code",
   "execution_count": 115,
   "metadata": {},
   "outputs": [],
   "source": [
    "df3 = df2[['Sport', 'Discipline', 'Event']]"
   ]
  },
  {
   "cell_type": "code",
   "execution_count": 116,
   "metadata": {},
   "outputs": [
    {
     "data": {
      "text/plain": [
       "1160"
      ]
     },
     "execution_count": 116,
     "metadata": {},
     "output_type": "execute_result"
    }
   ],
   "source": [
    "df3 = df3.copy()\n",
    "df3.drop_duplicates(keep='first', inplace=True)\n",
    "len(df3)\n"
   ]
  },
  {
   "cell_type": "code",
   "execution_count": 123,
   "metadata": {},
   "outputs": [],
   "source": [
    "# df4 = df3[df3['Sport'] == df3['Discipline']]\n",
    "# df4['Discipline'] = 'NAN'\n",
    "# df3 = df3[df3['Sport'] != df3['Discipline']]\n",
    "# df3 = pd.concat([df3, df4])  \n",
    "   \n",
    "import numpy as np\n",
    "\n",
    "df3['Discipline'] = np.where(df3['Sport'] == df3['Discipline'], 'NaN', df3['Discipline'])\n",
    "\n",
    "df3 = df3.sort_values(by=[df3.columns[0], df3.columns[1], df3.columns[2]])\n",
    "\n",
    "df3.to_csv('../WashedType_Only3Column.csv', index=False)\n",
    "df3.to_excel('../WashedType_Only3Column.xlsx', index=False)"
   ]
  },
  {
   "cell_type": "markdown",
   "metadata": {},
   "source": [
    "去重"
   ]
  },
  {
   "cell_type": "code",
   "execution_count": 127,
   "metadata": {},
   "outputs": [],
   "source": [
    "df4 = df3.drop_duplicates(subset=['Sport', 'Event'], keep='last')\n",
    "df4.to_excel('../WashedType_Only3ColumnLast.xlsx', index=False)"
   ]
  },
  {
   "cell_type": "markdown",
   "metadata": {},
   "source": [
    "检验差异项"
   ]
  },
  {
   "cell_type": "code",
   "execution_count": 126,
   "metadata": {},
   "outputs": [],
   "source": [
    "# 筛选出 df1 中不在 df2 中的行\n",
    "df_diff1 = df3[~df3.isin(df4)].dropna()\n",
    "\n",
    "# 筛选出 df2 中不在 df1 中的行\n",
    "df_diff2 = df4[~df4.isin(df3)].dropna()\n",
    "\n",
    "# 合并这两个 DataFrame\n",
    "df_diff = pd.concat([df_diff1, df_diff2])\n",
    "df_diff.to_excel('../WashedType_Only3Column_diff.xlsx', index=False)\n"
   ]
  }
 ],
 "metadata": {
  "kernelspec": {
   "display_name": "MCM",
   "language": "python",
   "name": "python3"
  },
  "language_info": {
   "codemirror_mode": {
    "name": "ipython",
    "version": 3
   },
   "file_extension": ".py",
   "mimetype": "text/x-python",
   "name": "python",
   "nbconvert_exporter": "python",
   "pygments_lexer": "ipython3",
   "version": "3.8.19"
  }
 },
 "nbformat": 4,
 "nbformat_minor": 2
}
